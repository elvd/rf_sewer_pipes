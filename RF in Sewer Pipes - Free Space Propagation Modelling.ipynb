{
 "cells": [
  {
   "cell_type": "code",
   "execution_count": null,
   "metadata": {},
   "outputs": [],
   "source": [
    "import numpy as np\n",
    "from scipy.constants import speed_of_light\n",
    "\n",
    "import matplotlib.pyplot as plt\n",
    "from matplotlib import ticker, colors, cm"
   ]
  },
  {
   "cell_type": "code",
   "execution_count": null,
   "metadata": {},
   "outputs": [],
   "source": [
    "def max_antenna_separation(pipe_diameter, wavelength, mode='normal'):\n",
    "    pipe_radius = pipe_diameter / 2.0\n",
    "\n",
    "    # Assume the pipe radius is 60% of the first Fresnel zone as opposed to 100%\n",
    "    if mode == 'cheeky':\n",
    "        pipe_radius /= 0.6\n",
    "    \n",
    "    separation = 16 * np.power(pipe_radius, 2) - np.power(wavelength, 2)\n",
    "    separation /= (8 * wavelength)\n",
    "    \n",
    "    return separation\n",
    "\n",
    "\n",
    "def far_field_distance(antenna_dimension, wavelength, antenna_type='monopole'):\n",
    "    # A monopole is assumed to be a quarter-wavelength resonator, and\n",
    "    # a dipole to be a half-wavelength resonator\n",
    "    if antenna_type == 'monopole':\n",
    "        dimension = wavelength / 4.0\n",
    "    elif antenna_type == 'dipole':\n",
    "        dimension = wavelength / 2.0\n",
    "    else:\n",
    "        dimension = antenna_dimension\n",
    "    \n",
    "    distance = 2 * np.power(dimension, 2)\n",
    "    distance /= wavelength\n",
    "    \n",
    "    return distance\n",
    "\n",
    "\n",
    "def max_antenna_separation_approx(pipe_diameter, wavelength, mode='normal'):\n",
    "    pipe_radius = pipe_diameter / 2.0\n",
    "\n",
    "    # Assume the pipe radius is 60% of the first Fresnel zone as opposed to 100%\n",
    "    if mode == 'cheeky':\n",
    "        pipe_radius /= 0.6\n",
    "\n",
    "    separation = 2 * np.float_power(pipe_radius, 2)\n",
    "    separation /= wavelength\n",
    "\n",
    "    return separation"
   ]
  },
  {
   "cell_type": "code",
   "execution_count": null,
   "metadata": {},
   "outputs": [],
   "source": [
    "# Consider pipe diameters from 10 mm (1e-2 m) to 10 000 mm (10 m)\n",
    "pipe_diameters = np.logspace(-2, 1, 301)\n",
    "\n",
    "# Consider frequencies from 0.1 GHz (1e8 Hz) to 1 000 GHz (1e12 Hz)\n",
    "freqs = np.logspace(8, 12, 401)\n",
    "wavelengths = speed_of_light / freqs"
   ]
  },
  {
   "cell_type": "code",
   "execution_count": null,
   "metadata": {},
   "outputs": [],
   "source": [
    "max_separations_normal = np.zeros((np.size(wavelengths), np.size(pipe_diameters)))\n",
    "max_separations_cheeky = np.zeros((np.size(wavelengths), np.size(pipe_diameters)))\n",
    "\n",
    "for i, wavelength in enumerate(wavelengths):\n",
    "    for j, diameter in enumerate(pipe_diameters):\n",
    "        max_separations_normal[i, j] = max_antenna_separation_approx(diameter, wavelength)\n",
    "        max_separations_cheeky[i, j] = max_antenna_separation(diameter, wavelength)"
   ]
  },
  {
   "cell_type": "code",
   "execution_count": null,
   "metadata": {},
   "outputs": [],
   "source": [
    "foo = max_separations_normal - max_separations_cheeky"
   ]
  },
  {
   "cell_type": "code",
   "execution_count": null,
   "metadata": {},
   "outputs": [],
   "source": [
    "foo_ma = np.ma.masked_where(foo <= 0, foo)\n",
    "fig, ax = plt.subplots()\n",
    "ax.set_xscale('log')\n",
    "ax.set_yscale('log')\n",
    "contour = ax.contourf(xv, yv, foo_ma, norm=colors.LogNorm())\n",
    "cbar = fig.colorbar(contour)"
   ]
  },
  {
   "cell_type": "code",
   "execution_count": null,
   "metadata": {},
   "outputs": [],
   "source": [
    "far_field_monopole = np.zeros(801)\n",
    "far_field_dipole = np.zeros(801)\n",
    "far_field_2x2 = np.zeros(801)\n",
    "far_field_4x4 = np.zeros(801)\n",
    "\n",
    "for i, wavelength in enumerate(wavelengths):\n",
    "    far_field_monopole[i] = far_field_distance(_, wavelength, 'monopole')\n",
    "    far_field_dipole[i] = far_field_distance(_, wavelength, 'dipole')\n",
    "    far_field_2x2[i] = far_field_distance(wavelength, wavelength, 'array')\n",
    "    far_field_4x4[i] = far_field_distance(2*wavelength, wavelength, 'array')"
   ]
  },
  {
   "cell_type": "code",
   "execution_count": null,
   "metadata": {},
   "outputs": [],
   "source": [
    "# Mask distances smaller than zero, as a) they have no physical meaning, and b) the `log` function will be sad\n",
    "# The masking can be extended to other distances, e.g. impose a minimum separation of 1 metre between antennas\n",
    "max_separations_normal_ma = np.ma.masked_where(max_separations_normal <= 1.0, max_separations_normal)\n",
    "max_separations_cheeky_ma = np.ma.masked_where(max_separations_cheeky <= 1.0, max_separations_cheeky)\n",
    "xv, yv = np.meshgrid(freqs, pipe_diameters, indexing='ij')"
   ]
  },
  {
   "cell_type": "code",
   "execution_count": null,
   "metadata": {},
   "outputs": [],
   "source": [
    "plt.rc('legend', fontsize=8)\n",
    "fig, axes = plt.subplots(nrows=2, ncols=1, sharex=True)\n",
    "fig.set_size_inches(10, 10/1.618)\n",
    "\n",
    "axes[0].set_xscale('log')\n",
    "axes[0].set_yscale('log')\n",
    "axes[0].set_xlim(np.min(freqs), np.max(freqs))\n",
    "axes[0].set_ylim(np.min(pipe_diameters), np.max(pipe_diameters))\n",
    "contour = axes[0].contourf(xv, yv, max_separations_normal_ma, norm=colors.LogNorm(), cmap='cividis')\n",
    "# axes[0].loglog(freqs, far_field_monopole, label='Monopole Far-Field Limit', lw=0.5)\n",
    "# axes[0].loglog(freqs, far_field_dipole, label='Dipole Far-Field Limit', lw=0.5)\n",
    "# axes[0].loglog(freqs, far_field_2x2, label='2x2 Far-Field Limit', lw=0.5)\n",
    "# axes[0].loglog(freqs, far_field_4x4, label='4x4 Far-Field Limit', lw=0.5)\n",
    "axes[0].grid(which='major', lw=0.05)\n",
    "# axes[0].legend(loc='lower left')\n",
    "\n",
    "axes[1].set_xscale('log')\n",
    "axes[1].set_yscale('log')\n",
    "axes[1].set_xlim(np.min(freqs), np.max(freqs))\n",
    "axes[1].set_ylim(np.min(pipe_diameters), np.max(pipe_diameters))\n",
    "contour = axes[1].contourf(xv, yv, max_separations_cheeky_ma, norm=colors.LogNorm(), cmap='cividis')\n",
    "# axes[1].loglog(freqs, far_field_monopole, label='Monopole Far-Field Limit', lw=0.5)\n",
    "# axes[1].loglog(freqs, far_field_dipole, label='Dipole Far-Field Limit', lw=0.5)\n",
    "# axes[1].loglog(freqs, far_field_2x2, label='2x2 Far-Field Limit', lw=0.5)\n",
    "# axes[1].loglog(freqs, far_field_4x4, label='4x4 Far-Field Limit', lw=0.5)\n",
    "axes[1].grid(which='major', lw=0.05)\n",
    "# axes[1].legend(loc='lower left')\n",
    "\n",
    "axes[0].set_title('First Fresnel Zone 100% free')\n",
    "axes[1].set_title('First Fresnel Zone 60% free')\n",
    "axes[1].set_xlabel('Frequency, (Hz)')\n",
    "\n",
    "fig.tight_layout()\n",
    "\n",
    "cbar = fig.colorbar(contour, ax=axes.ravel().tolist())\n",
    "cbar.set_label('Maximum antenna separation, (m)')\n",
    "\n",
    "fig.text(0, 0.5, 'Pipe diameter, (m)', va='center', rotation='vertical')\n",
    "\n",
    "# fig.savefig('distance_vs_freq_and_diameter.pdf', bbox_inches='tight')\n",
    "fig.savefig('Free Space Propagation Distance in Pipes Approx.png', bbox_inches='tight', dpi=600)"
   ]
  },
  {
   "cell_type": "code",
   "execution_count": null,
   "metadata": {},
   "outputs": [],
   "source": []
  }
 ],
 "metadata": {
  "kernelspec": {
   "display_name": "Python 3",
   "language": "python",
   "name": "python3"
  },
  "language_info": {
   "codemirror_mode": {
    "name": "ipython",
    "version": 3
   },
   "file_extension": ".py",
   "mimetype": "text/x-python",
   "name": "python",
   "nbconvert_exporter": "python",
   "pygments_lexer": "ipython3",
   "version": "3.6.10-final"
  }
 },
 "nbformat": 4,
 "nbformat_minor": 4
}