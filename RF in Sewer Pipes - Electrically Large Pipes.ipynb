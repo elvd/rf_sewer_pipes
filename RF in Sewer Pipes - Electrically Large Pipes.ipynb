{
 "cells": [
  {
   "cell_type": "code",
   "execution_count": null,
   "metadata": {},
   "outputs": [],
   "source": [
    "import numpy as np\n",
    "from scipy.constants import speed_of_light\n",
    "import matplotlib.pyplot as plt\n",
    "from matplotlib import colors\n",
    "import itur_p2040 as p2040"
   ]
  },
  {
   "cell_type": "code",
   "execution_count": null,
   "metadata": {},
   "outputs": [],
   "source": [
    "# Consider pipe diameters from 10 mm (1e-2 m) to 10 000 mm (10 m)\n",
    "pipe_diameters = np.logspace(-2, 1, 301)\n",
    "\n",
    "# Consider frequencies from 0.1 GHz (1e8 Hz) to 1 000 GHz (1e12 Hz)\n",
    "freqs = np.logspace(8, 12, 401)\n",
    "freqs /= 1e9"
   ]
  },
  {
   "cell_type": "code",
   "execution_count": null,
   "metadata": {},
   "outputs": [],
   "source": [
    "k_factor = 10"
   ]
  },
  {
   "cell_type": "code",
   "execution_count": null,
   "metadata": {},
   "outputs": [],
   "source": [
    "check_value_out = np.zeros((np.size(freqs), np.size(pipe_diameters)))\n",
    "check_value_in = np.zeros((np.size(freqs), np.size(pipe_diameters)))"
   ]
  },
  {
   "cell_type": "code",
   "execution_count": null,
   "metadata": {},
   "outputs": [],
   "source": [
    "for i, freq in enumerate(freqs):\n",
    "    for j, diameter in enumerate(pipe_diameters):\n",
    "        check_value_out[i, j] = p2040.check_electrical_size_wavelength(freq, diameter, k_factor)\n",
    "        check_value_in[i, j] = p2040.check_electrical_size_wavelength(freq, diameter/2*np.sqrt(2), k_factor)"
   ]
  },
  {
   "cell_type": "code",
   "execution_count": null,
   "metadata": {},
   "outputs": [],
   "source": [
    "xv, yv = np.meshgrid(freqs, pipe_diameters, indexing='ij')\n",
    "check_value_in_ma = np.ma.masked_where(check_value_in <= 1.0, check_value_in)\n",
    "check_value_out_ma = np.ma.masked_where(check_value_out <= 1.0, check_value_out)"
   ]
  },
  {
   "cell_type": "code",
   "execution_count": null,
   "metadata": {
    "tags": []
   },
   "outputs": [],
   "source": [
    "fig, axes = plt.subplots(nrows=2, ncols=1, sharex=True)\n",
    "fig.set_size_inches(10, 10/1.618)\n",
    "\n",
    "axes[0].set_yscale('log')\n",
    "axes[0].set_xscale('log')\n",
    "axes[0].grid(which='major')\n",
    "axes[0].set_xlim(np.min(freqs), np.max(freqs))\n",
    "axes[0].set_ylim(np.min(pipe_diameters), np.max(pipe_diameters))\n",
    "contour = axes[0].contourf(xv, yv, check_value_out_ma, cmap='cividis', norm=colors.LogNorm())\n",
    "\n",
    "axes[1].set_yscale('log')\n",
    "axes[1].set_xscale('log')\n",
    "axes[1].grid(which='major')\n",
    "axes[1].set_xlim(np.min(freqs), np.max(freqs))\n",
    "axes[1].set_ylim(np.min(pipe_diameters), np.max(pipe_diameters))\n",
    "contour = axes[1].contourf(xv, yv, check_value_in_ma, cmap='cividis', norm=colors.LogNorm())\n",
    "\n",
    "axes[0].set_title('Inscribed circle approximation')\n",
    "axes[1].set_title('Circumscribed circle approximation')\n",
    "axes[1].set_xlabel('Frequency, (Hz)')\n",
    "\n",
    "fig.tight_layout()\n",
    "\n",
    "cbar = fig.colorbar(contour, ax=axes.ravel().tolist())\n",
    "cbar.set_label('Check value')\n",
    "\n",
    "fig.text(0, 0.5, 'Pipe diameter, (m)', va='center', rotation='vertical')\n",
    "\n",
    "# fig.savefig('4.png', dpi=600, bbox_inches='tight')\n"
   ]
  },
  {
   "cell_type": "code",
   "execution_count": null,
   "metadata": {},
   "outputs": [],
   "source": []
  }
 ],
 "metadata": {
  "language_info": {
   "codemirror_mode": {
    "name": "ipython",
    "version": 3
   },
   "file_extension": ".py",
   "mimetype": "text/x-python",
   "name": "python",
   "nbconvert_exporter": "python",
   "pygments_lexer": "ipython3",
   "version": "3.6.10-final"
  },
  "orig_nbformat": 2,
  "kernelspec": {
   "name": "python3",
   "display_name": "Python 3"
  }
 },
 "nbformat": 4,
 "nbformat_minor": 2
}