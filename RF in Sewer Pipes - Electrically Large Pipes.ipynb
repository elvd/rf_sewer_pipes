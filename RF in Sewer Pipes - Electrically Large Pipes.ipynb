{
 "cells": [
  {
   "cell_type": "code",
   "execution_count": null,
   "metadata": {},
   "outputs": [],
   "source": [
    "import numpy as np\n",
    "from scipy.constants import speed_of_light\n",
    "import matplotlib.pyplot as plt\n",
    "from matplotlib import colors\n",
    "import itur_p2040 as p2040\n",
    "import itur_p527 as p527\n",
    "import circular_lossy_waveguide as pca\n",
    "import aux_funcs"
   ]
  },
  {
   "cell_type": "code",
   "execution_count": null,
   "metadata": {},
   "outputs": [],
   "source": [
    "# Consider pipe diameters from 10 mm (1e-2 m) to 10 000 mm (10 m)\n",
    "pipe_diameters = np.logspace(-2, 1, 301)\n",
    "\n",
    "# Consider frequencies from 0.1 GHz (1e8 Hz) to 1 000 GHz (1e12 Hz)\n",
    "freqs = np.logspace(8, 12, 401)\n",
    "freqs /= 1e9"
   ]
  },
  {
   "cell_type": "code",
   "execution_count": null,
   "metadata": {},
   "outputs": [],
   "source": [
    "k_factor = 10\n",
    "xv, yv = np.meshgrid(freqs, pipe_diameters, indexing='ij')"
   ]
  },
  {
   "cell_type": "code",
   "execution_count": null,
   "metadata": {},
   "outputs": [],
   "source": [
    "check_value_out = np.zeros((np.size(freqs), np.size(pipe_diameters)))\n",
    "check_value_in = np.zeros((np.size(freqs), np.size(pipe_diameters)))\n",
    "check_value_circ_eh11 = np.zeros((np.size(freqs), np.size(pipe_diameters)))\n",
    "check_value_circ_te01 = np.zeros((np.size(freqs), np.size(pipe_diameters)))\n",
    "check_value_circ_te02 = np.zeros((np.size(freqs), np.size(pipe_diameters)))"
   ]
  },
  {
   "cell_type": "code",
   "execution_count": null,
   "metadata": {},
   "outputs": [],
   "source": [
    "for i, freq in enumerate(freqs):\n",
    "    for j, diameter in enumerate(pipe_diameters):\n",
    "        check_value_out[i, j] = p2040.check_electrical_size_wavelength(freq, diameter, k_factor)\n",
    "        check_value_in[i, j] = p2040.check_electrical_size_wavelength(freq, diameter/2*np.sqrt(2), k_factor)"
   ]
  },
  {
   "cell_type": "code",
   "execution_count": null,
   "metadata": {},
   "outputs": [],
   "source": [
    "check_value_in_ma = np.ma.masked_where(check_value_in <= 1.0, check_value_in)\n",
    "check_value_out_ma = np.ma.masked_where(check_value_out <= 1.0, check_value_out)"
   ]
  },
  {
   "cell_type": "code",
   "execution_count": null,
   "metadata": {
    "tags": []
   },
   "outputs": [],
   "source": [
    "fig, axes = plt.subplots(nrows=2, ncols=1, sharex=True)\n",
    "fig.set_size_inches(10, 10/1.618)\n",
    "\n",
    "axes[0].set_yscale('log')\n",
    "axes[0].set_xscale('log')\n",
    "axes[0].grid(which='major')\n",
    "axes[0].set_xlim(np.min(freqs), np.max(freqs))\n",
    "axes[0].set_ylim(np.min(pipe_diameters), np.max(pipe_diameters))\n",
    "contour = axes[0].contourf(xv, yv, check_value_out_ma, cmap='cividis', norm=colors.LogNorm())\n",
    "\n",
    "axes[1].set_yscale('log')\n",
    "axes[1].set_xscale('log')\n",
    "axes[1].grid(which='major')\n",
    "axes[1].set_xlim(np.min(freqs), np.max(freqs))\n",
    "axes[1].set_ylim(np.min(pipe_diameters), np.max(pipe_diameters))\n",
    "contour = axes[1].contourf(xv, yv, check_value_in_ma, cmap='cividis', norm=colors.LogNorm())\n",
    "\n",
    "axes[0].set_title('Inscribed circle approximation')\n",
    "axes[1].set_title('Circumscribed circle approximation')\n",
    "axes[1].set_xlabel('Frequency, (Hz)')\n",
    "\n",
    "fig.tight_layout()\n",
    "\n",
    "cbar = fig.colorbar(contour, ax=axes.ravel().tolist())\n",
    "cbar.set_label('Check value')\n",
    "\n",
    "fig.text(0, 0.5, 'Pipe diameter, (m)', va='center', rotation='vertical')\n",
    "\n",
    "# fig.savefig('4.png', dpi=600, bbox_inches='tight')\n"
   ]
  },
  {
   "cell_type": "code",
   "execution_count": null,
   "metadata": {},
   "outputs": [],
   "source": [
    "soil_temp = 10.0\n",
    "soil_water_vol = 0.5\n",
    "soil = p527.SOILS['silty_clay']\n",
    "soil_permittivity = np.zeros(np.size(freqs), dtype=complex)"
   ]
  },
  {
   "cell_type": "code",
   "execution_count": null,
   "metadata": {},
   "outputs": [],
   "source": [
    "for idx, freq in enumerate(freqs):\n",
    "    foo = p527.soil_permittivity(freq, soil_temp, soil.p_sand, soil.p_clay, soil.p_silt, soil_water_vol)\n",
    "    soil_permittivity[idx] = complex(foo.real, -foo.imag)"
   ]
  },
  {
   "cell_type": "code",
   "execution_count": null,
   "metadata": {},
   "outputs": [],
   "source": [
    "for i, freq in enumerate(freqs):\n",
    "    for j, diameter in enumerate(pipe_diameters):\n",
    "        check_value_circ_eh11[i, j] = pca.check_electrical_size(freq, diameter, soil_permittivity[i], 1, 1, k_factor)\n",
    "        check_value_circ_te01[i, j] = pca.check_electrical_size(freq, diameter, soil_permittivity[i], 0, 1, k_factor) \n",
    "        check_value_circ_te02[i, j] = pca.check_electrical_size(freq, diameter, soil_permittivity[i], 0, 2, k_factor)"
   ]
  },
  {
   "cell_type": "code",
   "execution_count": null,
   "metadata": {},
   "outputs": [],
   "source": [
    "check_value_circ_eh11_ma = np.ma.masked_where(check_value_circ_eh11 <= 1.0, check_value_circ_eh11)\n",
    "check_value_circ_te01_ma = np.ma.masked_where(check_value_circ_te01 <= 1.0, check_value_circ_te01)\n",
    "check_value_circ_te02_ma = np.ma.masked_where(check_value_circ_te02 <= 1.0, check_value_circ_te02)"
   ]
  },
  {
   "cell_type": "code",
   "execution_count": null,
   "metadata": {},
   "outputs": [],
   "source": [
    "fig, axes = plt.subplots(nrows=3, ncols=1, sharex=True)\n",
    "fig.set_size_inches(10, 10/1.618)\n",
    "\n",
    "axes[0].set_yscale('log')\n",
    "axes[0].set_xscale('log')\n",
    "axes[0].grid(which='major')\n",
    "axes[0].set_xlim(np.min(freqs), np.max(freqs))\n",
    "axes[0].set_ylim(np.min(pipe_diameters), np.max(pipe_diameters))\n",
    "contour = axes[0].pcolormesh(xv, yv, check_value_circ_eh11_ma, cmap='cividis', norm=colors.LogNorm(vmin=1, vmax=1e3))\n",
    "\n",
    "axes[1].set_yscale('log')\n",
    "axes[1].set_xscale('log')\n",
    "axes[1].grid(which='major')\n",
    "axes[1].set_xlim(np.min(freqs), np.max(freqs))\n",
    "axes[1].set_ylim(np.min(pipe_diameters), np.max(pipe_diameters))\n",
    "contour = axes[1].pcolormesh(xv, yv, check_value_circ_te01_ma, cmap='cividis', norm=colors.LogNorm(vmin=1, vmax=1e3))\n",
    "\n",
    "axes[2].set_yscale('log')\n",
    "axes[2].set_xscale('log')\n",
    "axes[2].grid(which='major')\n",
    "axes[2].set_xlim(np.min(freqs), np.max(freqs))\n",
    "axes[2].set_ylim(np.min(pipe_diameters), np.max(pipe_diameters))\n",
    "contour = axes[2].pcolormesh(xv, yv, check_value_circ_te02_ma, cmap='cividis', norm=colors.LogNorm(vmin=1, vmax=1e3))\n",
    "\n",
    "axes[0].set_title('EH11 mode')\n",
    "axes[1].set_title('TE01 mode')\n",
    "axes[2].set_title('TE02 mode')\n",
    "axes[2].set_xlabel('Frequency, (Hz)')\n",
    "\n",
    "fig.tight_layout()\n",
    "\n",
    "cbar = fig.colorbar(contour, ax=axes.ravel().tolist())\n",
    "cbar.set_label('Check value')\n",
    "\n",
    "fig.text(0, 0.5, 'Pipe diameter, (m)', va='center', rotation='vertical')\n",
    "fig.savefig('Silty Clay 2.png', dpi=600)"
   ]
  },
  {
   "cell_type": "code",
   "execution_count": null,
   "metadata": {},
   "outputs": [],
   "source": []
  }
 ],
 "metadata": {
  "language_info": {
   "codemirror_mode": {
    "name": "ipython",
    "version": 3
   },
   "file_extension": ".py",
   "mimetype": "text/x-python",
   "name": "python",
   "nbconvert_exporter": "python",
   "pygments_lexer": "ipython3",
   "version": "3.6.10-final"
  },
  "orig_nbformat": 2,
  "kernelspec": {
   "name": "python3",
   "display_name": "Python 3"
  }
 },
 "nbformat": 4,
 "nbformat_minor": 2
}