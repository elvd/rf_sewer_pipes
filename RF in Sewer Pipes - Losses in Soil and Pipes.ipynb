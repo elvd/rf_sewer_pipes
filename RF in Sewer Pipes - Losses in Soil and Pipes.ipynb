{
 "cells": [
  {
   "cell_type": "code",
   "execution_count": null,
   "metadata": {},
   "outputs": [],
   "source": [
    "import numpy as np\n",
    "from matplotlib import colors\n",
    "import matplotlib.pyplot as plt\n",
    "from cycler import cycler\n",
    "\n",
    "import aux_funcs\n",
    "import itur_p527 as p527\n",
    "import itur_p2040 as p2040\n",
    "import circular_lossy_waveguide as clw\n",
    "import circular_metal_waveguide as cmw"
   ]
  },
  {
   "cell_type": "code",
   "execution_count": null,
   "metadata": {},
   "outputs": [],
   "source": [
    "freqs = np.logspace(8, 12, 401)\n",
    "freqs /= 1e9\n",
    "pipe_diameters = np.logspace(-2, 1, 301)\n",
    "temps = np.logspace(5, 25, 5, dtype='int')\n",
    "water_vols = np.linspace(0.1, 0.9, 5)"
   ]
  },
  {
   "cell_type": "code",
   "execution_count": null,
   "metadata": {},
   "outputs": [],
   "source": [
    "test_soil = p527.SOILS['clay_loam']\n",
    "test_water_vol = 0.9\n",
    "test_temp = 10.0\n",
    "test_soil_permittivity_pos = np.zeros(np.size(freqs), dtype=complex)\n",
    "test_soil_permittivity_neg = np.zeros(np.size(freqs), dtype=complex)\n",
    "test_soil_tan_delta_pos = np.zeros(np.size(freqs), dtype=float)\n",
    "test_soil_tan_delta_neg = np.zeros(np.size(freqs), dtype=float)\n",
    "\n",
    "for idx, freq in enumerate(freqs):\n",
    "    foo = p527.soil_permittivity(freq, test_temp,test_soil.p_sand, test_soil.p_clay, test_soil.p_silt, test_water_vol)\n",
    "    test_soil_permittivity_pos[idx] = foo\n",
    "    test_soil_permittivity_neg[idx] = complex(foo.real, -foo.imag)\n",
    "    test_soil_tan_delta_pos[idx] = aux_funcs.complex_permittivity_to_tan_delta(test_soil_permittivity_pos[idx].real, test_soil_permittivity_pos[idx].imag)\n",
    "    test_soil_tan_delta_neg[idx] = aux_funcs.complex_permittivity_to_tan_delta(test_soil_permittivity_neg[idx].real, test_soil_permittivity_neg[idx].imag)"
   ]
  },
  {
   "cell_type": "code",
   "execution_count": null,
   "metadata": {},
   "outputs": [],
   "source": [
    "test_soil_attenuation_rate = np.zeros(np.size(freqs))\n",
    "test_soil_tx_coeff_te = np.zeros(np.size(freqs))\n",
    "test_soil_tx_coeff_tm = np.zeros(np.size(freqs))\n",
    "test_soil_prop_const = np.zeros(np.size(freqs))"
   ]
  },
  {
   "cell_type": "code",
   "execution_count": null,
   "metadata": {},
   "outputs": [],
   "source": [
    "for idx, freq in enumerate(freqs):\n",
    "    test_soil_attenuation_rate[idx] = p2040.material_attenuation_rate(freq, test_soil_permittivity_neg[idx].real, test_soil_tan_delta_neg[idx])\n",
    "    \n",
    "    foo = aux_funcs.plane_wave_prop_const(freq, test_soil_permittivity_neg[idx].real, test_soil_permittivity_neg[idx].imag, 1.0)\n",
    "    test_soil_prop_const[idx] = aux_funcs.nepers_to_db(np.abs(foo[0]))\n",
    "\n",
    "    foo_te = p2040.single_layer_slab_coefficients(freq, 1.0, test_soil_permittivity_neg[idx], 0.0, 'TE')\n",
    "    foo_tm = p2040.single_layer_slab_coefficients(freq, 1.0, test_soil_permittivity_neg[idx], 0.0, 'TM')\n",
    "    if foo_tm[1] == 0:\n",
    "        test_soil_tx_coeff_tm[idx] = np.nan\n",
    "    elif foo_te[1] == 0:\n",
    "        test_soil_tx_coeff_te[idx] = np.nan\n",
    "    else:\n",
    "        test_soil_tx_coeff_te[idx] = 20*np.log10(np.abs(foo_te[1]))\n",
    "        test_soil_tx_coeff_tm[idx] = 20*np.log10(np.abs(foo_tm[1]))\n"
   ]
  },
  {
   "cell_type": "code",
   "execution_count": null,
   "metadata": {},
   "outputs": [],
   "source": [
    "fig, ax = plt.subplots()\n",
    "fig.set_size_inches(10, 10/1.618)\n",
    "\n",
    "ax.loglog(freqs, test_soil_attenuation_rate, label='ITU-R P.2040 Material Attenuation')\n",
    "ax.loglog(freqs, test_soil_prop_const, label='Homogeneous Media Prop Constant')\n",
    "ax.loglog(freqs, -test_soil_tx_coeff_tm, label='ITU-R P.2040 Tx Coeff - TM 0 deg')\n",
    "ax.loglog(freqs, -test_soil_tx_coeff_te, label='ITU-R P.2040 Tx Coeff - TE 0 deg')\n",
    "ax.set_xlim(np.min(freqs), np.max(freqs))\n",
    "ax.set_ylim(1, 1e5)\n",
    "\n",
    "ax.set_xlabel('Frequency, (GHz)')\n",
    "ax.set_ylabel('Attenuation, (dB/m)')\n",
    "\n",
    "ax.legend()\n",
    "\n",
    "ax.set_title(f'Temperature: {test_temp} C Volumetric moisture content: {test_water_vol}')\n",
    "\n",
    "ax.text(1e2, 1.0e2, f'Sand: {test_soil.p_sand}%')\n",
    "ax.text(1e2, 0.6e2, f'Clay: {test_soil.p_clay}%')\n",
    "ax.text(1e2, 0.35e2, f'Silt: {test_soil.p_silt}%')\n",
    "\n",
    "fig.tight_layout()\n",
    "\n",
    "fig.savefig('Clay Loam Losses mv 0.9.png', dpi=600, bbox_inches='tight')"
   ]
  },
  {
   "cell_type": "code",
   "execution_count": null,
   "metadata": {},
   "outputs": [],
   "source": [
    "soil_losses_p2040 = np.zeros((len(p527.SOILS), np.size(freqs)))\n",
    "soil_losses_paper = np.zeros((len(p527.SOILS), np.size(freqs)))\n",
    "soil_losses_slabs = np.zeros((len(p527.SOILS), np.size(freqs)))\n",
    "soil_permittivity = np.zeros(np.size(freqs))\n",
    "test_temp = 10\n",
    "test_water_vol = 0.5"
   ]
  },
  {
   "cell_type": "code",
   "execution_count": null,
   "metadata": {},
   "outputs": [],
   "source": [
    "for i, soil in enumerate(p527.SOILS):\n",
    "    test_soil = p527.SOILS[soil]\n",
    "    for j, freq in enumerate(freqs):\n",
    "        soil_permittivity = p527.soil_permittivity(freq, test_temp, test_soil.p_sand, test_soil.p_clay, test_soil.p_silt, test_water_vol)\n",
    "        soil_loss_tangent = aux_funcs.complex_permittivity_to_tan_delta(soil_permittivity.real, soil_permittivity.imag)\n",
    "        soil_losses_p2040[i, j] = p2040.material_attenuation_rate(freq, soil_permittivity.real, soil_loss_tangent)\n",
    "        foo, _ = aux_funcs.plane_wave_prop_const(freq, soil_permittivity.real, soil_permittivity.imag, 1.0)\n",
    "        soil_losses_paper[i, j] = aux_funcs.nepers_to_db(foo)"
   ]
  },
  {
   "cell_type": "code",
   "execution_count": null,
   "metadata": {},
   "outputs": [],
   "source": [
    "for i, soil in enumerate(p527.SOILS):\n",
    "    test_soil = p527.SOILS[soil]\n",
    "    for j, freq in enumerate(freqs):\n",
    "        soil_permittivity = p527.soil_permittivity(freq, test_temp, test_soil.p_sand, test_soil.p_clay, test_soil.p_silt, test_water_vol)\n",
    "        soil_perm_neg = complex(soil_permittivity.real, -soil_permittivity.imag)\n",
    "        foo = p2040.single_layer_slab_coefficients(freq, 1.0, soil_perm_neg, 0, 'TE')\n",
    "        if foo[1] == 0.0:\n",
    "            soil_losses_slabs[i, j] = np.nan\n",
    "        else:\n",
    "            soil_losses_slabs[i, j] = 20 * np.log10(np.abs(foo[1]))"
   ]
  },
  {
   "cell_type": "code",
   "execution_count": null,
   "metadata": {},
   "outputs": [],
   "source": [
    "custom_cycler = (cycler(color=plt.rcParams['axes.prop_cycle'].by_key()['color'][:4]) * cycler(linestyle=['-', '--', ':', '-.']))\n",
    "fig, ax = plt.subplots()\n",
    "ax.set_prop_cycle(custom_cycler)\n",
    "color_idx = np.linspace(0, 1, len(p527.SOILS))\n",
    "fig.set_size_inches(10, 10/1.618)\n",
    "ax.set_xscale('log')\n",
    "ax.set_yscale('log')\n",
    "ax.set_xlim(np.min(freqs), np.max(freqs))\n",
    "#ax.set_ylim(1, 14)\n",
    "#ax.set_yticks([1, 2, 4, 6, 8, 10, 12, 14])\n",
    "#ax.set_yticklabels([1, 2, 4, 6, 8, 10, 12, 14])\n",
    "for i, soil in enumerate(p527.SOILS):\n",
    "#    print(soil)\n",
    "    ax.plot(freqs, -soil_losses_slabs[i, :], label=soil.replace('_', ' ').title())\n",
    "ax.set_xlabel('Frequency, (GHz)')\n",
    "ax.set_ylabel('Power loss, (dB/m)')\n",
    "ax.set_title(f'Temperature: {test_temp} C Volumetric moisture content: {test_water_vol}')\n",
    "ax.legend(loc='lower right')\n",
    "fig.tight_layout()\n",
    "#fig.savefig(f'Line Plot Fixed Temperature - {test_temp} Fixed mv - {test_water_vol}.png', dpi=600, bbox_inches='tight')"
   ]
  },
  {
   "cell_type": "code",
   "execution_count": null,
   "metadata": {},
   "outputs": [],
   "source": [
    "test_soil = p527.SOILS['clay_loam']\n",
    "test_soil_temp = 10.0\n",
    "test_soil_water_vol = 0.5\n",
    "test_soil_er = np.zeros(np.size(freqs), dtype=complex)\n",
    "test_soil_tan_delta = np.zeros(np.size(freqs))\n",
    "\n",
    "for idx, freq in enumerate(freqs):\n",
    "    foo = p527.soil_permittivity(freq, test_soil_temp, test_soil.p_sand, test_soil.p_clay, test_soil.p_silt, test_soil_water_vol)\n",
    "    test_soil_er[idx] = complex(foo.real, -foo.imag)\n",
    "    test_soil_tan_delta[idx] = aux_funcs.complex_permittivity_to_tan_delta(foo.real, foo.imag)"
   ]
  },
  {
   "cell_type": "code",
   "execution_count": null,
   "metadata": {},
   "outputs": [],
   "source": [
    "loss_p2040 = np.zeros((np.size(freqs), np.size(pipe_diameters)))\n",
    "loss_clw = np.zeros((np.size(freqs), np.size(pipe_diameters)))\n",
    "loss_cmw = np.zeros((np.size(freqs), np.size(pipe_diameters)))"
   ]
  },
  {
   "cell_type": "code",
   "execution_count": null,
   "metadata": {
    "tags": []
   },
   "outputs": [],
   "source": [
    "for i, freq in enumerate(freqs):\n",
    "    for j, diameter in enumerate(pipe_diameters):\n",
    "        loss_p2040[i, j] = p2040.dielectric_wvg_loss(freq, diameter, diameter, test_soil_er[i].real, np.abs(test_soil_er[i].imag), 'vertical', 'circle')"
   ]
  },
  {
   "cell_type": "code",
   "execution_count": null,
   "metadata": {},
   "outputs": [],
   "source": [
    "for i, freq in enumerate(freqs):\n",
    "    for j, diameter in enumerate(pipe_diameters):\n",
    "        foo = clw.calc_attenuation_constant(freq, diameter, test_soil_er[i], 'HE', 1, 1)\n",
    "        loss_clw[i, j] = aux_funcs.nepers_to_db(foo) "
   ]
  },
  {
   "cell_type": "code",
   "execution_count": null,
   "metadata": {},
   "outputs": [],
   "source": [
    "xv, yv = np.meshgrid(freqs, pipe_diameters, indexing='ij')"
   ]
  },
  {
   "cell_type": "code",
   "execution_count": null,
   "metadata": {},
   "outputs": [],
   "source": [
    "fig, ax = plt.subplots()\n",
    "fig.set_size_inches(10, 10/1.618)\n",
    "\n",
    "ax.set_xscale('log')\n",
    "ax.set_yscale('log')\n",
    "\n",
    "contour = ax.contourf(xv, yv, loss_p2040, cmap='cividis', norm=colors.LogNorm(vmin=1e-9, vmax=1e9))\n",
    "\n",
    "ax.set_xlabel('Frequency, (GHz)')\n",
    "ax.set_ylabel('Pipe diameter, (m)')\n",
    "ax.set_title(f'Temperature: {test_soil_temp} C Volumetric moisture content: {test_soil_water_vol}')\n",
    "\n",
    "fig.tight_layout()\n",
    "\n",
    "cbar = fig.colorbar(contour)\n",
    "cbar.set_label('Attenuation, (dB/m)')\n",
    "\n",
    "fig.savefig('Clay Loam P2040.png', dpi=600, bbox_inches='tight')"
   ]
  },
  {
   "cell_type": "code",
   "execution_count": null,
   "metadata": {},
   "outputs": [],
   "source": [
    "fig, ax = plt.subplots()\n",
    "fig.set_size_inches(10, 10/1.618)\n",
    "\n",
    "ax.set_xscale('log')\n",
    "ax.set_yscale('log')\n",
    "\n",
    "contour = ax.contourf(xv, yv, loss_clw, cmap='cividis', norm=colors.LogNorm(vmin=1e-9, vmax=1e9))\n",
    "\n",
    "ax.set_xlabel('Frequency, (GHz)')\n",
    "ax.set_ylabel('Pipe diameter, (m)')\n",
    "ax.set_title(f'Temperature: {test_soil_temp} C Volumetric moisture content: {test_soil_water_vol}')\n",
    "\n",
    "fig.tight_layout()\n",
    "\n",
    "cbar = fig.colorbar(contour)\n",
    "cbar.set_label('Attenuation, (dB/m)')\n",
    "\n",
    "fig.savefig('Clay Loam Paper.png', dpi=600, bbox_inches='tight')"
   ]
  },
  {
   "cell_type": "code",
   "execution_count": null,
   "metadata": {},
   "outputs": [],
   "source": [
    "plt.loglog(pipe_diameters, loss_clw[50, :], label='paper')\n",
    "plt.loglog(pipe_diameters, loss_p2040[50, :], label='itu')\n",
    "plt.legend()"
   ]
  },
  {
   "cell_type": "code",
   "execution_count": null,
   "metadata": {},
   "outputs": [],
   "source": [
    "for i, freq in enumerate(freqs):\n",
    "    for j, diameter in enumerate(pipe_diameters):\n",
    "        foo = cmw.calc_attenuation_constant(freq, diameter, 'TE', 1, 1, 5.88e7, 1)\n",
    "        loss_cmw[i, j] = aux_funcs.nepers_to_db(foo)"
   ]
  },
  {
   "cell_type": "code",
   "execution_count": null,
   "metadata": {},
   "outputs": [],
   "source": [
    "fig, ax = plt.subplots()\n",
    "\n",
    "ax.set_xscale('log')\n",
    "ax.set_yscale('log')\n",
    "contour = ax.contourf(xv, yv, loss_cmw, cmap='cividis', norm=colors.LogNorm())\n",
    "\n",
    "fig.tight_layout()\n",
    "\n",
    "cbar = fig.colorbar(contour)"
   ]
  },
  {
   "cell_type": "code",
   "execution_count": null,
   "metadata": {},
   "outputs": [],
   "source": []
  }
 ],
 "metadata": {
  "language_info": {
   "codemirror_mode": {
    "name": "ipython",
    "version": 3
   },
   "file_extension": ".py",
   "mimetype": "text/x-python",
   "name": "python",
   "nbconvert_exporter": "python",
   "pygments_lexer": "ipython3",
   "version": 3
  },
  "orig_nbformat": 2,
  "kernelspec": {
   "name": "python_defaultSpec_1595442524873",
   "display_name": "Python 3.6.10 64-bit"
  }
 },
 "nbformat": 4,
 "nbformat_minor": 2
}