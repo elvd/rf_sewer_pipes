{
 "cells": [
  {
   "cell_type": "code",
   "execution_count": null,
   "metadata": {},
   "outputs": [],
   "source": [
    "import numpy as np\n",
    "import matplotlib.pyplot as plt\n",
    "import itur_p527 as p527\n",
    "from cycler import cycler"
   ]
  },
  {
   "cell_type": "code",
   "execution_count": null,
   "metadata": {},
   "outputs": [],
   "source": [
    "freqs = np.logspace(8, 12, 801)\n",
    "temps = np.linspace(5, 25, 5, dtype='int')\n",
    "water_vols = np.linspace(0.1, 0.9, 5)\n",
    "freqs_ism = np.array([433e6, 868e6, 2.45e9, 5.8e9, 24.125e9, 60e9, 1225e9, 245e9])"
   ]
  },
  {
   "cell_type": "code",
   "execution_count": null,
   "metadata": {},
   "outputs": [],
   "source": [
    "test_soil_1 = p527.Soil(30.63, 13.48, 55.89)\n",
    "test_soil_2 = p527.Soil(5.02, 47.38, 47.60)"
   ]
  },
  {
   "cell_type": "code",
   "execution_count": null,
   "metadata": {},
   "outputs": [],
   "source": [
    "test_er_1 = []\n",
    "test_er_2 = []\n",
    "\n",
    "for freq in freqs:\n",
    "    test_er_1.append(p527.soil_permittivity(freq/1e9, 23, test_soil_1.p_sand, test_soil_1.p_clay, test_soil_1.p_silt, 0.5))\n",
    "    test_er_2.append(p527.soil_permittivity(freq/1e9, 23, test_soil_2.p_sand, test_soil_2.p_clay, test_soil_2.p_silt, 0.5))"
   ]
  },
  {
   "cell_type": "code",
   "execution_count": null,
   "metadata": {
    "tags": []
   },
   "outputs": [],
   "source": [
    "fig, ax = plt.subplots()\n",
    "fig.set_size_inches(10, 10/1.618)\n",
    "ax.semilogx(freqs/1e9, np.real(test_er_1), label='Real part')\n",
    "ax.semilogx(freqs/1e9, np.imag(test_er_1), label='Imaginary part')\n",
    "ax.set_xlim(np.min(freqs/1e9), np.max(freqs/1e9))\n",
    "ax.set_ylim(0, 35)\n",
    "ax.set_xlabel('Frequency, (GHz)')\n",
    "ax.set_ylabel('Complex relative permittivity')\n",
    "ax.set_title('Test soil 1')\n",
    "ax.legend(loc='upper right')\n",
    "ax.grid(ls='--', lw=0.5)\n",
    "ax.text(1e2, 27, f'Sand: {test_soil_1.p_sand}%')\n",
    "ax.text(1e2, 25, f'Clay: {test_soil_1.p_clay}%')\n",
    "ax.text(1e2, 23, f'Silt: {test_soil_1.p_silt}%')\n",
    "ax.text(1e2, 21, 'Water volume: 0.5')\n",
    "ax.text(1e2, 19, 'Temperature: 23 C')\n",
    "fig.tight_layout()\n",
    "# fig.savefig('ITU-R P.527 Test Soil 1.png', dpi=600)"
   ]
  },
  {
   "cell_type": "code",
   "execution_count": null,
   "metadata": {},
   "outputs": [],
   "source": [
    "fig, ax = plt.subplots()\n",
    "fig.set_size_inches(10, 10/1.618)\n",
    "ax.semilogx(freqs/1e9, np.real(test_er_2), label='Real part')\n",
    "ax.semilogx(freqs/1e9, np.imag(test_er_2), label='Imaginary part')\n",
    "ax.set_xlim(np.min(freqs/1e9), np.max(freqs/1e9))\n",
    "ax.set_ylim(0, 35)\n",
    "ax.set_xlabel('Frequency, (GHz)')\n",
    "ax.set_ylabel('Complex relative permittivity')\n",
    "ax.set_title('Test soil 2')\n",
    "ax.legend(loc='upper right')\n",
    "ax.grid(ls='--', lw=0.5)\n",
    "ax.text(1e2, 27, f'Sand: {test_soil_2.p_sand}%')\n",
    "ax.text(1e2, 25, f'Clay: {test_soil_2.p_clay}%')\n",
    "ax.text(1e2, 23, f'Silt: {test_soil_2.p_silt}%')\n",
    "ax.text(1e2, 21, 'Water volume: 0.5')\n",
    "ax.text(1e2, 19, 'Temperature: 23 C')\n",
    "fig.tight_layout()\n",
    "# fig.savefig('ITU-R P.527 Test Soil 2.png', dpi=600)"
   ]
  },
  {
   "cell_type": "code",
   "execution_count": null,
   "metadata": {},
   "outputs": [],
   "source": [
    "test_soil = p527.SOILS['loamy_sand']\n",
    "test_data = np.zeros((np.size(temps), np.size(freqs)), dtype=complex)\n",
    "test_water_vol = 0.5"
   ]
  },
  {
   "cell_type": "code",
   "execution_count": null,
   "metadata": {},
   "outputs": [],
   "source": [
    "for i, temp in enumerate(temps):\n",
    "    for j, freq in enumerate(freqs):\n",
    "        test_data[i, j] = p527.soil_permittivity(freq/1e9, temp, test_soil.p_sand, test_soil.p_clay, test_soil.p_silt, test_water_vol)"
   ]
  },
  {
   "cell_type": "code",
   "execution_count": null,
   "metadata": {
    "tags": []
   },
   "outputs": [],
   "source": [
    "xv, yv = np.meshgrid(temps, freqs, indexing='ij')\n",
    "levels = np.linspace(0, 50, 11)"
   ]
  },
  {
   "cell_type": "code",
   "execution_count": null,
   "metadata": {},
   "outputs": [],
   "source": [
    "fig, ax = plt.subplots()\n",
    "fig.set_size_inches(10, 10/1.618)\n",
    "ax.set_yscale('log')\n",
    "ax.set_xlim(np.min(temps), np.max(temps))\n",
    "ax.set_ylim(np.min(freqs), np.max(freqs))\n",
    "ax.set_xlabel('Temperature, (deg C)')\n",
    "ax.set_ylabel('Frequency, (Hz)')\n",
    "ax.set_title(f'Sand: {test_soil.p_sand}% Clay: {test_soil.p_clay}% Silt: {test_soil.p_silt}% Volumetric moisture content: {test_water_vol}')\n",
    "contour = ax.contourf(xv, yv, np.real(test_data), levels, cmap='cividis')\n",
    "cbar = fig.colorbar(contour)\n",
    "cbar.set_label('Real part of relative permittivity')\n",
    "fig.tight_layout()\n",
    "# fig.savefig(f'Loamy Sand Fixed mv - {test_water_vol}.png', dpi=600, bbox_inches='tight')"
   ]
  },
  {
   "cell_type": "code",
   "execution_count": null,
   "metadata": {},
   "outputs": [],
   "source": [
    "test_data_2 = np.zeros((np.size(temps), np.size(water_vols)), dtype=complex)\n",
    "test_freq = 2.45"
   ]
  },
  {
   "cell_type": "code",
   "execution_count": null,
   "metadata": {},
   "outputs": [],
   "source": [
    "for i, temp in enumerate(temps):\n",
    "    for j, water_vol in enumerate(water_vols):\n",
    "        test_data_2[i, j] = p527.soil_permittivity(test_freq, temp, test_soil.p_sand, test_soil.p_clay, test_soil.p_silt, water_vol)"
   ]
  },
  {
   "cell_type": "code",
   "execution_count": null,
   "metadata": {},
   "outputs": [],
   "source": [
    "xv, yv = np.meshgrid(temps, water_vols, indexing='ij')"
   ]
  },
  {
   "cell_type": "code",
   "execution_count": null,
   "metadata": {},
   "outputs": [],
   "source": [
    "fig, ax = plt.subplots()\n",
    "fig.set_size_inches(10, 10/1.618)\n",
    "ax.set_xlim(np.min(temps), np.max(temps))\n",
    "ax.set_ylim(np.min(water_vols), np.max(water_vols))\n",
    "contour = ax.contourf(xv, yv, np.real(test_data_2), cmap='cividis')\n",
    "cbar = fig.colorbar(contour)\n",
    "ax.set_xlabel('Temperature, (deg C)')\n",
    "ax.set_ylabel('Volumetric moisture content')\n",
    "ax.set_title(f'Sand: {test_soil.p_sand}% Clay: {test_soil.p_clay}% Silt: {test_soil.p_silt}% Frequency: {test_freq} GHz')\n",
    "cbar.set_label('Real part of relative permittivity')\n",
    "fig.tight_layout()\n",
    "# fig.savefig(f'Loamy Sand Fixed Frequency - {test_freq}.png', dpi=600, bbox_inches='tight')"
   ]
  },
  {
   "cell_type": "code",
   "execution_count": null,
   "metadata": {},
   "outputs": [],
   "source": [
    "test_data_3 = np.zeros((len(p527.SOILS), np.size(freqs)), dtype=complex)\n",
    "test_temp = 15\n",
    "test_water_vol = 0.1"
   ]
  },
  {
   "cell_type": "code",
   "execution_count": null,
   "metadata": {
    "tags": []
   },
   "outputs": [],
   "source": [
    "for i, soil in enumerate(p527.SOILS):\n",
    "    test_soil = p527.SOILS[soil]\n",
    "    # print(soil)\n",
    "    for j, freq in enumerate(freqs):\n",
    "        test_data_3[i, j] = p527.soil_permittivity(freq/1e9, test_temp, test_soil.p_sand, test_soil.p_clay, test_soil.p_silt, test_water_vol)"
   ]
  },
  {
   "cell_type": "code",
   "execution_count": null,
   "metadata": {},
   "outputs": [],
   "source": [
    "xv, yv = np.meshgrid(np.arange(len(p527.SOILS)), freqs, indexing='ij')"
   ]
  },
  {
   "cell_type": "code",
   "execution_count": null,
   "metadata": {},
   "outputs": [],
   "source": [
    "fig, ax = plt.subplots()\n",
    "fig.set_size_inches(10, 10/1.618)\n",
    "ax.set_xscale('log')\n",
    "ax.set_xlim(np.min(freqs), np.max(freqs))\n",
    "ax.set_ylim(0, 11)\n",
    "ax.set_yticks([0, 1, 2, 3, 4, 5, 6, 7, 8, 9, 10, 11])\n",
    "yticklabels = [soil_name.replace('_', ' ').title() for soil_name in p527.SOILS]\n",
    "ax.set_yticklabels(yticklabels)\n",
    "contour = ax.contourf(yv, xv, np.real(test_data_3), cmap='cividis')\n",
    "cbar = fig.colorbar(contour)\n",
    "ax.set_xlabel('Frequency, (Hz)')\n",
    "ax.set_ylabel('Soil')\n",
    "ax.set_title(f'Temperature: {test_temp} C Volumetric moisture content: {test_water_vol}')\n",
    "cbar.set_label('Real part of relative permittivity')\n",
    "fig.tight_layout()\n",
    "# fig.savefig(f'Fixed Temperature - {test_temp} Fixed mv - {test_water_vol}.png', dpi=600, bbox_inches='tight')"
   ]
  },
  {
   "cell_type": "code",
   "execution_count": null,
   "metadata": {},
   "outputs": [],
   "source": [
    "test_data_3_real = np.real(test_data_3)\n",
    "test_data_3_imag = np.imag(test_data_3)"
   ]
  },
  {
   "cell_type": "code",
   "execution_count": null,
   "metadata": {
    "tags": []
   },
   "outputs": [],
   "source": [
    "custom_cycler = (cycler(color=plt.rcParams['axes.prop_cycle'].by_key()['color'][:4]) * cycler(linestyle=['-', '--', ':', '-.']))\n",
    "fig, ax = plt.subplots()\n",
    "ax.set_prop_cycle(custom_cycler)\n",
    "color_idx = np.linspace(0, 1, len(p527.SOILS))\n",
    "fig.set_size_inches(10, 10/1.618)\n",
    "ax.set_xscale('log')\n",
    "ax.set_xlim(np.min(freqs), np.max(freqs))\n",
    "ax.set_ylim(1, 14)\n",
    "ax.set_yticks([1, 2, 4, 6, 8, 10, 12, 14])\n",
    "ax.set_yticklabels([1, 2, 4, 6, 8, 10, 12, 14])\n",
    "for i, soil in enumerate(p527.SOILS):\n",
    "#    print(soil)\n",
    "    ax.plot(freqs, test_data_3_real[i, :], label=soil.replace('_', ' ').title())\n",
    "ax.set_xlabel('Frequency, (Hz)')\n",
    "ax.set_ylabel('Real relative permittivity')\n",
    "ax.set_title(f'Temperature: {test_temp} C Volumetric moisture content: {test_water_vol}')\n",
    "ax.legend(loc='upper right')\n",
    "fig.tight_layout()\n",
    "fig.savefig(f'Line Plot Fixed Temperature - {test_temp} Fixed mv - {test_water_vol}.png', dpi=600, bbox_inches='tight')"
   ]
  },
  {
   "cell_type": "code",
   "execution_count": null,
   "metadata": {
    "tags": []
   },
   "outputs": [],
   "source": []
  }
 ],
 "metadata": {
  "language_info": {
   "codemirror_mode": {
    "name": "ipython",
    "version": 3
   },
   "file_extension": ".py",
   "mimetype": "text/x-python",
   "name": "python",
   "nbconvert_exporter": "python",
   "pygments_lexer": "ipython3",
   "version": "3.6.10-final"
  },
  "orig_nbformat": 2,
  "kernelspec": {
   "name": "python3",
   "display_name": "Python 3"
  }
 },
 "nbformat": 4,
 "nbformat_minor": 2
}